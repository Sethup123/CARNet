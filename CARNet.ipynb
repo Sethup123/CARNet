{
 "cells": [
  {
   "cell_type": "code",
   "execution_count": 1,
   "id": "7f0b2680",
   "metadata": {},
   "outputs": [],
   "source": [
    "import sys\n",
    "from collections import OrderedDict\n",
    "from typing import Tuple\n",
    "\n",
    "\n",
    "import numpy as np; np.random.seed(1)\n",
    "import torch; torch.manual_seed(1)\n",
    "from torch import nn, Tensor\n",
    "import torch.nn.functional as F\n",
    "from time import time\n",
    "from tqdm import tqdm\n",
    "from scipy import io\n",
    "from torch.utils.data import DataLoader, TensorDataset\n"
   ]
  },
  {
   "cell_type": "markdown",
   "id": "81f28ee3",
   "metadata": {},
   "source": [
    "# Golbal Variables"
   ]
  },
  {
   "cell_type": "code",
   "execution_count": 2,
   "id": "b3ffeef6",
   "metadata": {},
   "outputs": [],
   "source": [
    "DATASET = 'AWA2' \n",
    "DATA_DIR = f'../../Datasets/{DATASET}'\n",
    "DEVICE = 'cuda:0'\n",
    "USE_ATTRIBUTE_REFINEMENT = True\n",
    "USE_CIRCLE_LOSS = True"
   ]
  },
  {
   "cell_type": "markdown",
   "id": "90962e28",
   "metadata": {},
   "source": [
    "# Attribute Refinement Network"
   ]
  },
  {
   "cell_type": "code",
   "execution_count": 3,
   "id": "50795b2d",
   "metadata": {},
   "outputs": [],
   "source": [
    "def exist(x):\n",
    "    return x is not None\n",
    "\n",
    "class Residual(nn.Module):\n",
    "    def __init__(self,fn):\n",
    "        super().__init__()\n",
    "        self.fn=fn\n",
    "    \n",
    "    def forward(self,x):\n",
    "        return self.fn(x)+x\n",
    "\n",
    "class GatingUnit(nn.Module):\n",
    "    def __init__(self,dim,len_sen):\n",
    "        super().__init__()\n",
    "        self.ln=nn.LayerNorm(dim)\n",
    "        self.proj=nn.Conv1d(len_sen,len_sen,1)\n",
    "\n",
    "        nn.init.zeros_(self.proj.weight)\n",
    "        nn.init.ones_(self.proj.bias)\n",
    "    \n",
    "    def forward(self,x):\n",
    "        res,gate=torch.chunk(x,2,-1)\n",
    "        gate=self.ln(gate) \n",
    "        gate=self.proj(gate.unsqueeze(-1)) \n",
    "        gate = gate.squeeze(-1)\n",
    "        return res*gate\n",
    "\n",
    "class ARN(nn.Module):\n",
    "    def __init__(self,num_tokens=None,len_sen=49,dim=512,d_ff=1024,num_layers=6):\n",
    "        super().__init__()\n",
    "        self.num_layers=num_layers\n",
    "        self.embedding=nn.Embedding(num_tokens,dim) if exist(num_tokens) else nn.Identity()\n",
    "\n",
    "        self.arn=nn.ModuleList([Residual(nn.Sequential(OrderedDict([\n",
    "            ('ln1_%d'%i,nn.LayerNorm(dim)),\n",
    "            ('fc1_%d'%i,nn.Linear(dim,d_ff*2)),\n",
    "            ('gelu_%d'%i,nn.GELU()),\n",
    "            ('sgu_%d'%i,GatingUnit(d_ff,len_sen)),\n",
    "            ('fc2_%d'%i,nn.Linear(d_ff,dim)),\n",
    "        ])))  for i in range(num_layers)])\n",
    "\n",
    "\n",
    "\n",
    "    def forward(self,x):\n",
    "        #embedding\n",
    "        embeded=self.embedding(x)\n",
    "\n",
    "        #ARN\n",
    "        y=nn.Sequential(*self.arn)(embeded)\n",
    "                \n",
    "        return y"
   ]
  },
  {
   "cell_type": "markdown",
   "id": "2e1adeb1",
   "metadata": {},
   "source": [
    "# Circle Loss"
   ]
  },
  {
   "cell_type": "code",
   "execution_count": 4,
   "id": "815fefd2",
   "metadata": {},
   "outputs": [],
   "source": [
    "class CircleLoss(nn.Module):\n",
    "    def __init__(self, m: float, gamma: float) -> None:\n",
    "        super(CircleLoss, self).__init__()\n",
    "        self.m = m\n",
    "        self.gamma = gamma\n",
    "        self.soft_plus = nn.Softplus()\n",
    "\n",
    "    def forward(self, sp: Tensor, sn: Tensor, logits=None, N=None, C=None) -> Tensor:\n",
    "        sp_logit = logits[sp].view(N,1)\n",
    "        sn_logit = logits[sn].view(N,C-1)\n",
    "\n",
    "        margin = self.m\n",
    "\n",
    "        ap = torch.clamp_min(- sp_logit.detach() + 1 + margin, min=0.)\n",
    "        an = torch.clamp_min(sn_logit.detach() + margin, min=0.)\n",
    "\n",
    "        delta_p = 1 - margin\n",
    "        delta_n = margin\n",
    "\n",
    "        logit_p = - ap * (sp_logit - delta_p) * self.gamma\n",
    "        logit_n = an * (sn_logit - delta_n) * self.gamma\n",
    "\n",
    "        loss = self.soft_plus(torch.logsumexp(logit_n, dim=1) + torch.logsumexp(logit_p, dim=1))\n",
    "        loss = torch.ones(loss.size(0)).to(DEVICE).view(-1, 1) * loss\n",
    "        return loss\n",
    "\n",
    "        "
   ]
  },
  {
   "cell_type": "markdown",
   "id": "98bd921e",
   "metadata": {},
   "source": [
    "# Evaluation Function"
   ]
  },
  {
   "cell_type": "code",
   "execution_count": 5,
   "id": "e6ddef47",
   "metadata": {},
   "outputs": [],
   "source": [
    "def test():\n",
    "    model.eval()\n",
    "    \n",
    "    reg = 0.95\n",
    "    task_seen_class = seen_classes\n",
    "    task_unseen_class = unseen_classes\n",
    "    \n",
    "    seen_unseen=np.hstack([seen_classes, unseen_classes])\n",
    "        \n",
    "        \n",
    "    seen_dict = {}\n",
    "    seen_dict_no = {}\n",
    "    seen_acc_list = []    \n",
    "    \n",
    "    for jj in range(len(task_seen_class)):\n",
    "        mapped_class = task_seen_class[jj]\n",
    "        seen_dict[mapped_class] = 0\n",
    "        seen_dict_no[mapped_class] = 0\n",
    "        \n",
    "        \n",
    "    \n",
    "    unseen_dict = {}\n",
    "    unseen_dict_no = {}\n",
    "    unseen_acc_list = []    \n",
    "        \n",
    "    for jj in range(len(task_unseen_class)):\n",
    "        mapped_class = task_unseen_class[jj]\n",
    "        unseen_dict[mapped_class] = 0\n",
    "        unseen_dict_no[mapped_class] = 0\n",
    "        \n",
    "    \n",
    "        \n",
    "    with torch.no_grad():\n",
    "        # Compute Seen Accuracy\n",
    "        correct=0\n",
    "        Nsamples=0\n",
    "        feats, targets = torch.clone(test_seen_feat), torch.clone(test_seen_labels)\n",
    "        feats = feats.to(DEVICE)\n",
    "        targets = targets.to(DEVICE)\n",
    "        logits = model(feats, attrs.to(DEVICE))\n",
    "        logits[:, seen_mask] *= reg\n",
    "        pred = logits.max(1, keepdim=True)[1]\n",
    "        \n",
    "        for jj in range(targets.shape[0]):\n",
    "            if pred[jj] == targets[jj]:\n",
    "               seen_dict[targets[jj].cpu().numpy().item()] += 1\n",
    "            \n",
    "            seen_dict_no[targets[jj].cpu().numpy().item()] += 1           \n",
    "        \n",
    "        \n",
    "        for jj in range(len(task_seen_class)):\n",
    "            mapped_class = task_seen_class[jj]\n",
    "            seen_acc_list.append(seen_dict[mapped_class]/(seen_dict_no[mapped_class] * 1.0))\n",
    "        \n",
    "        seen_acc = np.mean(np.array(seen_acc_list))\n",
    "        \n",
    "                \n",
    "        # Compute Unseen Accuracy\n",
    "        correct=0\n",
    "        Nsamples=0\n",
    "        feats, targets = torch.clone(test_unseen_feat), torch.clone(test_unseen_labels)\n",
    "        feats = feats.to(DEVICE)\n",
    "        targets = targets.to(DEVICE)\n",
    "        logits = model(feats, attrs.to(DEVICE))\n",
    "        logits[:, seen_mask] *= reg\n",
    "        pred = logits.max(1, keepdim=True)[1]\n",
    "        \n",
    "        for jj in range(targets.shape[0]):\n",
    "            if pred[jj] == targets[jj]:\n",
    "               unseen_dict[targets[jj].cpu().numpy().item()] += 1\n",
    "            \n",
    "            unseen_dict_no[targets[jj].cpu().numpy().item()] += 1           \n",
    "        \n",
    "        for jj in range(len(task_unseen_class)):\n",
    "            mapped_class = task_unseen_class[jj]\n",
    "            unseen_acc_list.append(unseen_dict[mapped_class]/(unseen_dict_no[mapped_class] * 1.0))\n",
    "        \n",
    "        unseen_acc = np.mean(np.array(unseen_acc_list))        \n",
    "        \n",
    "        # Compute Harmonic Mean\n",
    "        h_mean_class_wise = (2*seen_acc*unseen_acc)/(seen_acc+unseen_acc)     \n",
    "        \n",
    "        return seen_acc, unseen_acc,h_mean_class_wise"
   ]
  },
  {
   "cell_type": "markdown",
   "id": "05347b7d",
   "metadata": {},
   "source": [
    "# Initialize the Attribute Refinement Network"
   ]
  },
  {
   "cell_type": "code",
   "execution_count": 6,
   "id": "857b9f4c",
   "metadata": {},
   "outputs": [
    {
     "data": {
      "text/plain": [
       "<torch._C.Generator at 0x7fcea86f2350>"
      ]
     },
     "execution_count": 6,
     "metadata": {},
     "output_type": "execute_result"
    }
   ],
   "source": [
    "arn = ARN(len_sen=256,dim=85,d_ff=256, num_layers=2)\n",
    "arn = arn.to(DEVICE)\n",
    "\n",
    "np.random.seed(1)\n",
    "torch.manual_seed(1)"
   ]
  },
  {
   "cell_type": "markdown",
   "id": "7c086e24",
   "metadata": {},
   "source": [
    "# Prepare the Dataset"
   ]
  },
  {
   "cell_type": "code",
   "execution_count": 7,
   "id": "847c752c",
   "metadata": {},
   "outputs": [
    {
     "name": "stdout",
     "output_type": "stream",
     "text": [
      "<=============== Loading data for AWA2 ===============>\n"
     ]
    }
   ],
   "source": [
    "print(f'<=============== Loading data for {DATASET} ===============>')\n",
    "data = io.loadmat(f'{DATA_DIR}/res101.mat')\n",
    "attrs_mat = io.loadmat(f'{DATA_DIR}/att_splits.mat')\n",
    "feats = data['features'].T.astype(np.float32)\n",
    "labels = data['labels'].squeeze() - 1 # Using \"-1\" here and for idx to normalize to 0-index\n",
    "train_idx = attrs_mat['trainval_loc'].squeeze() - 1\n",
    "test_seen_idx = attrs_mat['test_seen_loc'].squeeze() - 1\n",
    "test_unseen_idx = attrs_mat['test_unseen_loc'].squeeze() - 1\n",
    "test_idx = np.array(test_seen_idx.tolist() + test_unseen_idx.tolist())\n",
    "seen_classes = sorted(np.unique(labels[test_seen_idx]))\n",
    "unseen_classes = sorted(np.unique(labels[test_unseen_idx]))"
   ]
  },
  {
   "cell_type": "code",
   "execution_count": 8,
   "id": "40c70231",
   "metadata": {},
   "outputs": [
    {
     "name": "stdout",
     "output_type": "stream",
     "text": [
      "<=============== Preprocessing ===============>\n"
     ]
    }
   ],
   "source": [
    "print(f'<=============== Preprocessing ===============>')\n",
    "num_classes = len(seen_classes) + len(unseen_classes)\n",
    "seen_mask = np.array([(c in seen_classes) for c in range(num_classes)])\n",
    "unseen_mask = np.array([(c in unseen_classes) for c in range(num_classes)])\n",
    "attrs = attrs_mat['att'].T\n",
    "attrs = torch.from_numpy(attrs).to(DEVICE).float()\n",
    "attrs = attrs / attrs.norm(dim=1, keepdim=True) * np.sqrt(attrs.shape[1])\n",
    "attrs_seen = attrs[seen_mask]\n",
    "attrs_unseen = attrs[unseen_mask]\n",
    "train_labels = labels[train_idx]\n",
    "labels_remapped_to_seen = [(seen_classes.index(t) if t in seen_classes else -1) for t in labels]\n",
    "ds_train = [(feats[i], labels_remapped_to_seen[i]) for i in train_idx]"
   ]
  },
  {
   "cell_type": "markdown",
   "id": "4d755af6",
   "metadata": {},
   "source": [
    "# Train Dataset"
   ]
  },
  {
   "cell_type": "code",
   "execution_count": 9,
   "id": "83e29ae3",
   "metadata": {},
   "outputs": [
    {
     "name": "stdout",
     "output_type": "stream",
     "text": [
      "the total_feat shape is... (23527, 2048)\n",
      "the total_labels shape is... (23527,)\n"
     ]
    }
   ],
   "source": [
    "total_feat = [ds_train[ii][0] for ii in range(len(ds_train))]\n",
    "total_feat = np.array(total_feat)\n",
    "\n",
    "total_labels = [ds_train[ii][1] for ii in range(len(ds_train))]\n",
    "total_labels = np.array(total_labels)\n",
    "\n",
    "print(\"the total_feat shape is...\", np.array(total_feat).shape)\n",
    "print(\"the total_labels shape is...\", np.array(total_labels).shape)  \n",
    "\n",
    "train_dataset = TensorDataset(torch.from_numpy(total_feat), \n",
    "                              torch.from_numpy(total_labels).long())"
   ]
  },
  {
   "cell_type": "markdown",
   "id": "00173557",
   "metadata": {},
   "source": [
    "# Test Dataset"
   ]
  },
  {
   "cell_type": "code",
   "execution_count": 10,
   "id": "dfda0d53",
   "metadata": {},
   "outputs": [],
   "source": [
    "test_seen_idx = attrs_mat['test_seen_loc'].squeeze() - 1\n",
    "test_unseen_idx = attrs_mat['test_unseen_loc'].squeeze() - 1\n",
    "\n",
    "test_seen_feat = torch.from_numpy(feats[test_seen_idx])\n",
    "test_seen_labels = torch.from_numpy(labels[test_seen_idx]).long()\n",
    "\n",
    "test_unseen_feat = torch.from_numpy(feats[test_unseen_idx])\n",
    "test_unseen_labels = torch.from_numpy(labels[test_unseen_idx]).long()\n"
   ]
  },
  {
   "cell_type": "code",
   "execution_count": null,
   "id": "1507ce3e",
   "metadata": {},
   "outputs": [],
   "source": []
  },
  {
   "cell_type": "code",
   "execution_count": 11,
   "id": "b7004d5a",
   "metadata": {},
   "outputs": [],
   "source": [
    "class ClassNormalization(nn.Module):\n",
    "    \n",
    "    def __init__(self, feat_dim: int):\n",
    "        super().__init__()\n",
    "        \n",
    "        self.running_mean = nn.Parameter(torch.zeros(feat_dim), requires_grad=False)\n",
    "        self.running_var = nn.Parameter(torch.ones(feat_dim), requires_grad=False)\n",
    "    \n",
    "    def forward(self, class_feats):\n",
    "        \n",
    "        if self.training:\n",
    "            batch_mean = class_feats.mean(dim=0)\n",
    "            batch_var = class_feats.var(dim=0)\n",
    "            \n",
    "            # Normalizing the batch\n",
    "            result = (class_feats - batch_mean.unsqueeze(0)) / (batch_var.unsqueeze(0) + 1e-5)\n",
    "            \n",
    "            # Updating the running mean/std\n",
    "            self.running_mean.data = 0.9 * self.running_mean.data + 0.1 * batch_mean.detach()\n",
    "            self.running_var.data = 0.9 * self.running_var.data + 0.1 * batch_var.detach()\n",
    "        else:\n",
    "            # Using accumulated statistics\n",
    "            # Attention! For the test inference, we cant use batch-wise statistics,\n",
    "            # only the accumulated ones. Otherwise, it will be quite transductive\n",
    "            result = (class_feats - self.running_mean.unsqueeze(0)) / (self.running_var.unsqueeze(0) + 1e-5)\n",
    "        \n",
    "        return result\n"
   ]
  },
  {
   "cell_type": "markdown",
   "id": "e1f18a98",
   "metadata": {},
   "source": [
    "# ZSL Model"
   ]
  },
  {
   "cell_type": "code",
   "execution_count": 12,
   "id": "f19d84d8",
   "metadata": {},
   "outputs": [],
   "source": [
    "class ZSLModel(nn.Module):\n",
    "    def __init__(self, attr_dim: int, hid_dim: int, proto_dim: int):\n",
    "        super().__init__()\n",
    "        \n",
    "        # Attribute to Feature Embedding\n",
    "        self.model = nn.Sequential(\n",
    "            nn.Linear(attr_dim, hid_dim),\n",
    "            nn.ReLU(),\n",
    "            \n",
    "            nn.Linear(hid_dim, hid_dim),\n",
    "            ClassNormalization(hid_dim),\n",
    "            nn.ReLU(),\n",
    "            \n",
    "            ClassNormalization(hid_dim),\n",
    "            nn.Linear(hid_dim, proto_dim),\n",
    "            nn.ReLU(),\n",
    "        )\n",
    "        \n",
    "        # Weight Initialization\n",
    "        weight_var = 1 / (hid_dim * proto_dim)\n",
    "        b = np.sqrt(3 * weight_var)\n",
    "        self.model[-2].weight.data.uniform_(-b, b)\n",
    "        \n",
    "    def forward(self, x, attrs, train=False):\n",
    "        attrs = arn(attrs) if USE_ATTRIBUTE_REFINEMENT else attrs\n",
    "        protos = self.model(attrs)\n",
    "        \n",
    "        # Feature-Prototype Combiner \n",
    "        x_ns = 5 * x / x.norm(dim=1, keepdim=True)\n",
    "        protos_ns = 5 * protos / protos.norm(dim=1, keepdim=True)\n",
    "        logits = x_ns @ protos_ns.t()\n",
    "        \n",
    "        x_nss = 1.0 * x / x.norm(dim=1, keepdim=True)\n",
    "        protos_nss = 1.0 * protos / protos.norm(dim=1, keepdim=True)\n",
    "        logits_nn = x_nss @ protos_nss.t()\n",
    "        \n",
    "        if train:\n",
    "            return logits, protos, logits_nn\n",
    "        else:\n",
    "            return logits"
   ]
  },
  {
   "cell_type": "code",
   "execution_count": 13,
   "id": "5b83ab70",
   "metadata": {},
   "outputs": [
    {
     "name": "stdout",
     "output_type": "stream",
     "text": [
      "\n",
      "<=============== Starting training ===============>\n"
     ]
    }
   ],
   "source": [
    "print(f'\\n<=============== Starting training ===============>')\n",
    "start_time = time()\n",
    "model = ZSLModel(attrs.shape[1], 1024, feats.shape[1]).to(DEVICE)\n",
    "\n",
    "params = set(list(model.parameters()) + list(arn.parameters()))\n",
    "\n",
    "optim = torch.optim.Adam(params, lr=0.0005, weight_decay=0.0001)\n",
    "scheduler = torch.optim.lr_scheduler.StepLR(optim, gamma=0.1, step_size=25)\n"
   ]
  },
  {
   "cell_type": "markdown",
   "id": "273e1414",
   "metadata": {},
   "source": [
    "# Training"
   ]
  },
  {
   "cell_type": "code",
   "execution_count": 14,
   "id": "258987f7",
   "metadata": {},
   "outputs": [
    {
     "name": "stderr",
     "output_type": "stream",
     "text": [
      "  2%|▉                                           | 1/50 [00:03<02:46,  3.40s/it]"
     ]
    },
    {
     "name": "stdout",
     "output_type": "stream",
     "text": [
      "test result (u) :  0.4457662843003991\n",
      "test result (s) :  0.8072499262167945\n",
      "test result (h) :  0.5743657537565339\n"
     ]
    },
    {
     "name": "stderr",
     "output_type": "stream",
     "text": [
      "\r",
      "  4%|█▊                                          | 2/50 [00:06<02:21,  2.96s/it]"
     ]
    },
    {
     "name": "stdout",
     "output_type": "stream",
     "text": [
      "test result (u) :  0.5075924460050565\n",
      "test result (s) :  0.7940384372493746\n",
      "test result (h) :  0.619296788007539\n"
     ]
    },
    {
     "name": "stderr",
     "output_type": "stream",
     "text": [
      "\r",
      "  6%|██▋                                         | 3/50 [00:08<02:12,  2.82s/it]"
     ]
    },
    {
     "name": "stdout",
     "output_type": "stream",
     "text": [
      "test result (u) :  0.5326411189943291\n",
      "test result (s) :  0.7937084644595249\n",
      "test result (h) :  0.6374816563279007\n"
     ]
    },
    {
     "name": "stderr",
     "output_type": "stream",
     "text": [
      "\r",
      "  8%|███▌                                        | 4/50 [00:11<02:06,  2.75s/it]"
     ]
    },
    {
     "name": "stdout",
     "output_type": "stream",
     "text": [
      "test result (u) :  0.5315517726408716\n",
      "test result (s) :  0.8020152572651821\n",
      "test result (h) :  0.6393568858917648\n"
     ]
    },
    {
     "name": "stderr",
     "output_type": "stream",
     "text": [
      "\r",
      " 10%|████▍                                       | 5/50 [00:14<02:02,  2.72s/it]"
     ]
    },
    {
     "name": "stdout",
     "output_type": "stream",
     "text": [
      "test result (u) :  0.5538790205036689\n",
      "test result (s) :  0.7933785758557044\n",
      "test result (h) :  0.6523410959730619\n"
     ]
    },
    {
     "name": "stderr",
     "output_type": "stream",
     "text": [
      "\r",
      " 12%|█████▎                                      | 6/50 [00:16<01:59,  2.72s/it]"
     ]
    },
    {
     "name": "stdout",
     "output_type": "stream",
     "text": [
      "test result (u) :  0.5836305150114282\n",
      "test result (s) :  0.799867910765464\n",
      "test result (h) :  0.674850526756501\n"
     ]
    },
    {
     "name": "stderr",
     "output_type": "stream",
     "text": [
      "\r",
      " 14%|██████▏                                     | 7/50 [00:19<01:56,  2.70s/it]"
     ]
    },
    {
     "name": "stdout",
     "output_type": "stream",
     "text": [
      "test result (u) :  0.5836305150114282\n",
      "test result (s) :  0.799867910765464\n",
      "test result (h) :  0.674850526756501\n"
     ]
    },
    {
     "name": "stderr",
     "output_type": "stream",
     "text": [
      "\r",
      " 16%|███████                                     | 8/50 [00:22<01:52,  2.69s/it]"
     ]
    },
    {
     "name": "stdout",
     "output_type": "stream",
     "text": [
      "test result (u) :  0.6302360289515303\n",
      "test result (s) :  0.792613553820883\n",
      "test result (h) :  0.7021594196624711\n"
     ]
    },
    {
     "name": "stderr",
     "output_type": "stream",
     "text": [
      "\r",
      " 18%|███████▉                                    | 9/50 [00:24<01:49,  2.67s/it]"
     ]
    },
    {
     "name": "stdout",
     "output_type": "stream",
     "text": [
      "test result (u) :  0.6302360289515303\n",
      "test result (s) :  0.792613553820883\n",
      "test result (h) :  0.7021594196624711\n"
     ]
    },
    {
     "name": "stderr",
     "output_type": "stream",
     "text": [
      "\r",
      " 20%|████████▌                                  | 10/50 [00:27<01:46,  2.66s/it]"
     ]
    },
    {
     "name": "stdout",
     "output_type": "stream",
     "text": [
      "test result (u) :  0.6302360289515303\n",
      "test result (s) :  0.792613553820883\n",
      "test result (h) :  0.7021594196624711\n"
     ]
    },
    {
     "name": "stderr",
     "output_type": "stream",
     "text": [
      "\r",
      " 22%|█████████▍                                 | 11/50 [00:29<01:43,  2.66s/it]"
     ]
    },
    {
     "name": "stdout",
     "output_type": "stream",
     "text": [
      "test result (u) :  0.6302360289515303\n",
      "test result (s) :  0.792613553820883\n",
      "test result (h) :  0.7021594196624711\n"
     ]
    },
    {
     "name": "stderr",
     "output_type": "stream",
     "text": [
      "\r",
      " 24%|██████████▎                                | 12/50 [00:32<01:41,  2.67s/it]"
     ]
    },
    {
     "name": "stdout",
     "output_type": "stream",
     "text": [
      "test result (u) :  0.6302360289515303\n",
      "test result (s) :  0.792613553820883\n",
      "test result (h) :  0.7021594196624711\n"
     ]
    },
    {
     "name": "stderr",
     "output_type": "stream",
     "text": [
      "\r",
      " 26%|███████████▏                               | 13/50 [00:35<01:43,  2.78s/it]"
     ]
    },
    {
     "name": "stdout",
     "output_type": "stream",
     "text": [
      "test result (u) :  0.6302360289515303\n",
      "test result (s) :  0.792613553820883\n",
      "test result (h) :  0.7021594196624711\n"
     ]
    },
    {
     "name": "stderr",
     "output_type": "stream",
     "text": [
      "\r",
      " 28%|████████████                               | 14/50 [00:38<01:41,  2.81s/it]"
     ]
    },
    {
     "name": "stdout",
     "output_type": "stream",
     "text": [
      "test result (u) :  0.6302360289515303\n",
      "test result (s) :  0.792613553820883\n",
      "test result (h) :  0.7021594196624711\n"
     ]
    },
    {
     "name": "stderr",
     "output_type": "stream",
     "text": [
      "\r",
      " 30%|████████████▉                              | 15/50 [00:41<01:38,  2.82s/it]"
     ]
    },
    {
     "name": "stdout",
     "output_type": "stream",
     "text": [
      "test result (u) :  0.6302360289515303\n",
      "test result (s) :  0.792613553820883\n",
      "test result (h) :  0.7021594196624711\n"
     ]
    },
    {
     "name": "stderr",
     "output_type": "stream",
     "text": [
      "\r",
      " 32%|█████████████▊                             | 16/50 [00:44<01:36,  2.83s/it]"
     ]
    },
    {
     "name": "stdout",
     "output_type": "stream",
     "text": [
      "test result (u) :  0.6302360289515303\n",
      "test result (s) :  0.792613553820883\n",
      "test result (h) :  0.7021594196624711\n"
     ]
    },
    {
     "name": "stderr",
     "output_type": "stream",
     "text": [
      "\r",
      " 34%|██████████████▌                            | 17/50 [00:47<01:33,  2.83s/it]"
     ]
    },
    {
     "name": "stdout",
     "output_type": "stream",
     "text": [
      "test result (u) :  0.6302360289515303\n",
      "test result (s) :  0.792613553820883\n",
      "test result (h) :  0.7021594196624711\n"
     ]
    },
    {
     "name": "stderr",
     "output_type": "stream",
     "text": [
      "\r",
      " 36%|███████████████▍                           | 18/50 [00:50<01:31,  2.87s/it]"
     ]
    },
    {
     "name": "stdout",
     "output_type": "stream",
     "text": [
      "test result (u) :  0.6302360289515303\n",
      "test result (s) :  0.792613553820883\n",
      "test result (h) :  0.7021594196624711\n"
     ]
    },
    {
     "name": "stderr",
     "output_type": "stream",
     "text": [
      "\r",
      " 38%|████████████████▎                          | 19/50 [00:53<01:30,  2.91s/it]"
     ]
    },
    {
     "name": "stdout",
     "output_type": "stream",
     "text": [
      "test result (u) :  0.6302360289515303\n",
      "test result (s) :  0.792613553820883\n",
      "test result (h) :  0.7021594196624711\n"
     ]
    },
    {
     "name": "stderr",
     "output_type": "stream",
     "text": [
      "\r",
      " 40%|█████████████████▏                         | 20/50 [00:56<01:27,  2.93s/it]"
     ]
    },
    {
     "name": "stdout",
     "output_type": "stream",
     "text": [
      "test result (u) :  0.6302360289515303\n",
      "test result (s) :  0.792613553820883\n",
      "test result (h) :  0.7021594196624711\n"
     ]
    },
    {
     "name": "stderr",
     "output_type": "stream",
     "text": [
      "\r",
      " 42%|██████████████████                         | 21/50 [00:57<01:15,  2.62s/it]"
     ]
    },
    {
     "name": "stdout",
     "output_type": "stream",
     "text": [
      "test result (u) :  0.6302360289515303\n",
      "test result (s) :  0.792613553820883\n",
      "test result (h) :  0.7021594196624711\n"
     ]
    },
    {
     "name": "stderr",
     "output_type": "stream",
     "text": [
      "\r",
      " 44%|██████████████████▉                        | 22/50 [00:59<01:06,  2.38s/it]"
     ]
    },
    {
     "name": "stdout",
     "output_type": "stream",
     "text": [
      "test result (u) :  0.6389622952386189\n",
      "test result (s) :  0.7968852300869826\n",
      "test result (h) :  0.7092391172142999\n"
     ]
    },
    {
     "name": "stderr",
     "output_type": "stream",
     "text": [
      "\r",
      " 46%|███████████████████▊                       | 23/50 [01:02<01:09,  2.58s/it]"
     ]
    },
    {
     "name": "stdout",
     "output_type": "stream",
     "text": [
      "test result (u) :  0.6496303428676387\n",
      "test result (s) :  0.7978202476340237\n",
      "test result (h) :  0.7161394584634563\n"
     ]
    },
    {
     "name": "stderr",
     "output_type": "stream",
     "text": [
      "\r",
      " 48%|████████████████████▋                      | 24/50 [01:05<01:10,  2.71s/it]"
     ]
    },
    {
     "name": "stdout",
     "output_type": "stream",
     "text": [
      "test result (u) :  0.6496303428676387\n",
      "test result (s) :  0.7978202476340237\n",
      "test result (h) :  0.7161394584634563\n"
     ]
    },
    {
     "name": "stderr",
     "output_type": "stream",
     "text": [
      "\r",
      " 50%|█████████████████████▌                     | 25/50 [01:08<01:10,  2.81s/it]"
     ]
    },
    {
     "name": "stdout",
     "output_type": "stream",
     "text": [
      "test result (u) :  0.6496303428676387\n",
      "test result (s) :  0.7978202476340237\n",
      "test result (h) :  0.7161394584634563\n"
     ]
    },
    {
     "name": "stderr",
     "output_type": "stream",
     "text": [
      "\r",
      " 52%|██████████████████████▎                    | 26/50 [01:10<01:00,  2.53s/it]"
     ]
    },
    {
     "name": "stdout",
     "output_type": "stream",
     "text": [
      "test result (u) :  0.6508963252312198\n",
      "test result (s) :  0.7990342438845758\n",
      "test result (h) :  0.7173977349764268\n"
     ]
    },
    {
     "name": "stderr",
     "output_type": "stream",
     "text": [
      "\r",
      " 54%|███████████████████████▏                   | 27/50 [01:13<01:00,  2.64s/it]"
     ]
    },
    {
     "name": "stdout",
     "output_type": "stream",
     "text": [
      "test result (u) :  0.6531574392393968\n",
      "test result (s) :  0.7982444602891716\n",
      "test result (h) :  0.718449256183087\n"
     ]
    },
    {
     "name": "stderr",
     "output_type": "stream",
     "text": [
      "\r",
      " 56%|████████████████████████                   | 28/50 [01:16<00:59,  2.71s/it]"
     ]
    },
    {
     "name": "stdout",
     "output_type": "stream",
     "text": [
      "test result (u) :  0.6531574392393968\n",
      "test result (s) :  0.7982444602891716\n",
      "test result (h) :  0.718449256183087\n"
     ]
    },
    {
     "name": "stderr",
     "output_type": "stream",
     "text": [
      "\r",
      " 58%|████████████████████████▉                  | 29/50 [01:19<00:57,  2.72s/it]"
     ]
    },
    {
     "name": "stdout",
     "output_type": "stream",
     "text": [
      "test result (u) :  0.6524376625855501\n",
      "test result (s) :  0.8002541807951278\n",
      "test result (h) :  0.7188254956773608\n"
     ]
    },
    {
     "name": "stderr",
     "output_type": "stream",
     "text": [
      "\r",
      " 60%|█████████████████████████▊                 | 30/50 [01:21<00:53,  2.68s/it]"
     ]
    },
    {
     "name": "stdout",
     "output_type": "stream",
     "text": [
      "test result (u) :  0.6524376625855501\n",
      "test result (s) :  0.8002541807951278\n",
      "test result (h) :  0.7188254956773608\n"
     ]
    },
    {
     "name": "stderr",
     "output_type": "stream",
     "text": [
      "\r",
      " 62%|██████████████████████████▋                | 31/50 [01:23<00:46,  2.46s/it]"
     ]
    },
    {
     "name": "stdout",
     "output_type": "stream",
     "text": [
      "test result (u) :  0.654716640921807\n",
      "test result (s) :  0.7999974218331264\n",
      "test result (h) :  0.7201025111103597\n"
     ]
    },
    {
     "name": "stderr",
     "output_type": "stream",
     "text": [
      "\r",
      " 64%|███████████████████████████▌               | 32/50 [01:25<00:41,  2.30s/it]"
     ]
    },
    {
     "name": "stdout",
     "output_type": "stream",
     "text": [
      "test result (u) :  0.654716640921807\n",
      "test result (s) :  0.7999974218331264\n",
      "test result (h) :  0.7201025111103597\n"
     ]
    },
    {
     "name": "stderr",
     "output_type": "stream",
     "text": [
      "\r",
      " 66%|████████████████████████████▍              | 33/50 [01:28<00:41,  2.41s/it]"
     ]
    },
    {
     "name": "stdout",
     "output_type": "stream",
     "text": [
      "test result (u) :  0.654716640921807\n",
      "test result (s) :  0.7999974218331264\n",
      "test result (h) :  0.7201025111103597\n"
     ]
    },
    {
     "name": "stderr",
     "output_type": "stream",
     "text": [
      "\r",
      " 68%|█████████████████████████████▏             | 34/50 [01:31<00:40,  2.56s/it]"
     ]
    },
    {
     "name": "stdout",
     "output_type": "stream",
     "text": [
      "test result (u) :  0.654716640921807\n",
      "test result (s) :  0.7999974218331264\n",
      "test result (h) :  0.7201025111103597\n"
     ]
    },
    {
     "name": "stderr",
     "output_type": "stream",
     "text": [
      "\r",
      " 70%|██████████████████████████████             | 35/50 [01:33<00:38,  2.59s/it]"
     ]
    },
    {
     "name": "stdout",
     "output_type": "stream",
     "text": [
      "test result (u) :  0.654716640921807\n",
      "test result (s) :  0.7999974218331264\n",
      "test result (h) :  0.7201025111103597\n"
     ]
    },
    {
     "name": "stderr",
     "output_type": "stream",
     "text": [
      "\r",
      " 72%|██████████████████████████████▉            | 36/50 [01:36<00:36,  2.62s/it]"
     ]
    },
    {
     "name": "stdout",
     "output_type": "stream",
     "text": [
      "test result (u) :  0.654716640921807\n",
      "test result (s) :  0.7999974218331264\n",
      "test result (h) :  0.7201025111103597\n"
     ]
    },
    {
     "name": "stderr",
     "output_type": "stream",
     "text": [
      "\r",
      " 74%|███████████████████████████████▊           | 37/50 [01:39<00:34,  2.66s/it]"
     ]
    },
    {
     "name": "stdout",
     "output_type": "stream",
     "text": [
      "test result (u) :  0.654716640921807\n",
      "test result (s) :  0.7999974218331264\n",
      "test result (h) :  0.7201025111103597\n"
     ]
    },
    {
     "name": "stderr",
     "output_type": "stream",
     "text": [
      "\r",
      " 76%|████████████████████████████████▋          | 38/50 [01:42<00:31,  2.67s/it]"
     ]
    },
    {
     "name": "stdout",
     "output_type": "stream",
     "text": [
      "test result (u) :  0.654716640921807\n",
      "test result (s) :  0.7999974218331264\n",
      "test result (h) :  0.7201025111103597\n"
     ]
    },
    {
     "name": "stderr",
     "output_type": "stream",
     "text": [
      "\r",
      " 78%|█████████████████████████████████▌         | 39/50 [01:44<00:29,  2.69s/it]"
     ]
    },
    {
     "name": "stdout",
     "output_type": "stream",
     "text": [
      "test result (u) :  0.654716640921807\n",
      "test result (s) :  0.7999974218331264\n",
      "test result (h) :  0.7201025111103597\n"
     ]
    },
    {
     "name": "stderr",
     "output_type": "stream",
     "text": [
      "\r",
      " 80%|██████████████████████████████████▍        | 40/50 [01:47<00:26,  2.69s/it]"
     ]
    },
    {
     "name": "stdout",
     "output_type": "stream",
     "text": [
      "test result (u) :  0.654716640921807\n",
      "test result (s) :  0.7999974218331264\n",
      "test result (h) :  0.7201025111103597\n"
     ]
    },
    {
     "name": "stderr",
     "output_type": "stream",
     "text": [
      "\r",
      " 82%|███████████████████████████████████▎       | 41/50 [01:50<00:24,  2.67s/it]"
     ]
    },
    {
     "name": "stdout",
     "output_type": "stream",
     "text": [
      "test result (u) :  0.654716640921807\n",
      "test result (s) :  0.7999974218331264\n",
      "test result (h) :  0.7201025111103597\n"
     ]
    },
    {
     "name": "stderr",
     "output_type": "stream",
     "text": [
      "\r",
      " 84%|████████████████████████████████████       | 42/50 [01:52<00:21,  2.70s/it]"
     ]
    },
    {
     "name": "stdout",
     "output_type": "stream",
     "text": [
      "test result (u) :  0.654716640921807\n",
      "test result (s) :  0.7999974218331264\n",
      "test result (h) :  0.7201025111103597\n"
     ]
    },
    {
     "name": "stderr",
     "output_type": "stream",
     "text": [
      "\r",
      " 86%|████████████████████████████████████▉      | 43/50 [01:55<00:19,  2.74s/it]"
     ]
    },
    {
     "name": "stdout",
     "output_type": "stream",
     "text": [
      "test result (u) :  0.654716640921807\n",
      "test result (s) :  0.7999974218331264\n",
      "test result (h) :  0.7201025111103597\n"
     ]
    },
    {
     "name": "stderr",
     "output_type": "stream",
     "text": [
      "\r",
      " 88%|█████████████████████████████████████▊     | 44/50 [01:58<00:16,  2.77s/it]"
     ]
    },
    {
     "name": "stdout",
     "output_type": "stream",
     "text": [
      "test result (u) :  0.654716640921807\n",
      "test result (s) :  0.7999974218331264\n",
      "test result (h) :  0.7201025111103597\n"
     ]
    },
    {
     "name": "stderr",
     "output_type": "stream",
     "text": [
      "\r",
      " 90%|██████████████████████████████████████▋    | 45/50 [02:01<00:14,  2.82s/it]"
     ]
    },
    {
     "name": "stdout",
     "output_type": "stream",
     "text": [
      "test result (u) :  0.6569628566913119\n",
      "test result (s) :  0.796845988405741\n",
      "test result (h) :  0.7201747583962458\n"
     ]
    },
    {
     "name": "stderr",
     "output_type": "stream",
     "text": [
      "\r",
      " 92%|███████████████████████████████████████▌   | 46/50 [02:04<00:11,  2.77s/it]"
     ]
    },
    {
     "name": "stdout",
     "output_type": "stream",
     "text": [
      "test result (u) :  0.6569628566913119\n",
      "test result (s) :  0.796845988405741\n",
      "test result (h) :  0.7201747583962458\n"
     ]
    },
    {
     "name": "stderr",
     "output_type": "stream",
     "text": [
      "\r",
      " 94%|████████████████████████████████████████▍  | 47/50 [02:07<00:08,  2.86s/it]"
     ]
    },
    {
     "name": "stdout",
     "output_type": "stream",
     "text": [
      "test result (u) :  0.6569628566913119\n",
      "test result (s) :  0.796845988405741\n",
      "test result (h) :  0.7201747583962458\n"
     ]
    },
    {
     "name": "stderr",
     "output_type": "stream",
     "text": [
      "\r",
      " 96%|█████████████████████████████████████████▎ | 48/50 [02:09<00:05,  2.80s/it]"
     ]
    },
    {
     "name": "stdout",
     "output_type": "stream",
     "text": [
      "test result (u) :  0.6569628566913119\n",
      "test result (s) :  0.796845988405741\n",
      "test result (h) :  0.7201747583962458\n"
     ]
    },
    {
     "name": "stderr",
     "output_type": "stream",
     "text": [
      "\r",
      " 98%|██████████████████████████████████████████▏| 49/50 [02:12<00:02,  2.82s/it]"
     ]
    },
    {
     "name": "stdout",
     "output_type": "stream",
     "text": [
      "test result (u) :  0.6569628566913119\n",
      "test result (s) :  0.796845988405741\n",
      "test result (h) :  0.7201747583962458\n"
     ]
    },
    {
     "name": "stderr",
     "output_type": "stream",
     "text": [
      "100%|███████████████████████████████████████████| 50/50 [02:15<00:00,  2.71s/it]"
     ]
    },
    {
     "name": "stdout",
     "output_type": "stream",
     "text": [
      "test result (u) :  0.6569628566913119\n",
      "test result (s) :  0.796845988405741\n",
      "test result (h) :  0.7201747583962458\n",
      "Training is done! Took time:  135.6 seconds\n"
     ]
    },
    {
     "name": "stderr",
     "output_type": "stream",
     "text": [
      "\n"
     ]
    }
   ],
   "source": [
    "mse = nn.MSELoss()                              \n",
    "train_dataloader = DataLoader(train_dataset, batch_size=256, shuffle=True)\n",
    "hm_best, seen_best, unseen_best = 0, 0, 0\n",
    "for epoch in tqdm(range(50)):\n",
    "    model.train()\n",
    "    \n",
    "    for i, (feats, targets) in enumerate(train_dataloader):\n",
    "        feats = feats.to(DEVICE)\n",
    "        targets = targets.to(DEVICE)\n",
    "       \n",
    "        \n",
    "        attrs_s = attrs[seen_mask]\n",
    "        \n",
    "                \n",
    "        N, D = feats.shape\n",
    "        C, K = attrs_s.cpu().numpy().shape\n",
    "                \n",
    "        logits, proto_s, logits_nn = model(feats, attrs[seen_mask], train=True)\n",
    "        \n",
    "                \n",
    "        loss_circle = CircleLoss(m=0.7, gamma=0.3)\n",
    "        \n",
    "        targets_one_hot = F.one_hot(targets, 40)\n",
    "        \n",
    "        sp_bool = targets_one_hot[:] == 1\n",
    "        sn_bool = targets_one_hot[:] != 1\n",
    "        \n",
    "                \n",
    "        loss = F.cross_entropy(logits, targets)\n",
    "        \n",
    "        loss += torch.mean(loss_circle(sp_bool, sn_bool, logits=logits_nn, N=N, C=C))*0.8 if USE_CIRCLE_LOSS else 0\n",
    "                        \n",
    "        optim.zero_grad()\n",
    "        loss.backward()\n",
    "        optim.step()\n",
    "    \n",
    "    with torch.no_grad():\n",
    "        test_seen_acc, test_unseen_acc, test_h_mean_class_wise = test()\n",
    "        if hm_best < test_h_mean_class_wise:\n",
    "            hm_best, seen_best, unseen_best = test_h_mean_class_wise, test_seen_acc, test_unseen_acc\n",
    "        \n",
    "        print(\"test result (u) : \", unseen_best)\n",
    "        print(\"test result (s) : \", seen_best)\n",
    "        print(\"test result (h) : \", hm_best)\n",
    "    \n",
    "    scheduler.step()\n",
    "\n",
    "print(f'Training is done! Took time: {(time() - start_time): .1f} seconds')\n"
   ]
  }
 ],
 "metadata": {
  "kernelspec": {
   "display_name": "Python 3 (ipykernel)",
   "language": "python",
   "name": "python3"
  },
  "language_info": {
   "codemirror_mode": {
    "name": "ipython",
    "version": 3
   },
   "file_extension": ".py",
   "mimetype": "text/x-python",
   "name": "python",
   "nbconvert_exporter": "python",
   "pygments_lexer": "ipython3",
   "version": "3.8.11"
  }
 },
 "nbformat": 4,
 "nbformat_minor": 5
}
